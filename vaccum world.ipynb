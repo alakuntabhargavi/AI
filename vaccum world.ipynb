{
 "cells": [
  {
   "cell_type": "code",
   "execution_count": 16,
   "id": "1b794794",
   "metadata": {},
   "outputs": [],
   "source": [
    "initial=[[[1,1],[0,1]]]\n",
    "visited=[]\n",
    "goal=[[[1,0],[0,0]],[[0,0],[1,0]]]"
   ]
  },
  {
   "cell_type": "code",
   "execution_count": 37,
   "id": "30971e6f",
   "metadata": {},
   "outputs": [
    {
     "name": "stdout",
     "output_type": "stream",
     "text": [
      "[[1, 1], [0, 1]]\n",
      "[[1, 0], [0, 1]]\n",
      "[[0, 1], [1, 1]]\n",
      "[[0, 1], [1, 0]]\n",
      "[[1, 1], [0, 0]]\n",
      "[[1, 0], [0, 0]]\n",
      "destination reached\n"
     ]
    }
   ],
   "source": [
    "initial=[[[1,1],[0,1]]]\n",
    "visited=[]\n",
    "goal=[[[1,0],[0,0]],[[0,0],[1,0]]]\n",
    "\n",
    "\n",
    "def bfs():\n",
    "    while(len(initial)):\n",
    "        \n",
    "        x=initial.pop(0)\n",
    "        print(x)\n",
    "        left=x[0]\n",
    "        right=x[1]\n",
    "        if x in goal:\n",
    "            print(\"destination reached\")\n",
    "            return\n",
    "        if left[0]==1:\n",
    "            if left[1]==1:\n",
    "                temp=[[left[0],0],right]\n",
    "                if temp not in visited:\n",
    "                    visited.append([[left[0],0],right])\n",
    "                    initial.append([[left[0],0],right])\n",
    "            else:\n",
    "                temp=[[left[0]-1,1],[right[0]+1,right[1]]]\n",
    "                if temp not in visited:\n",
    "                    visited.append([[left[0]-1,1],[right[0]+1,right[1]]])\n",
    "                    initial.append([[left[0]-1,1],[right[0]+1,right[1]]])\n",
    "\n",
    "        if right[0]==1:\n",
    "            if right[1]==1:\n",
    "                temp=[left,[right[0],0]]\n",
    "                if temp not in visited:\n",
    "                    visited.append([left,[right[0],0]])\n",
    "                    initial.append([left,[right[0],0]])\n",
    "            else:\n",
    "                temp=[[left[0]+1,left[1]],[0,right[1]]]\n",
    "                if temp not in visited:\n",
    "                    visited.append([[left[0]+1,left[1]],[0,right[1]]])\n",
    "                    initial.append([[left[0]+1,left[1]],[0,right[1]]])\n",
    "\n",
    "\n",
    "bfs()\n"
   ]
  },
  {
   "cell_type": "code",
   "execution_count": 10,
   "id": "0fa3c5e1",
   "metadata": {},
   "outputs": [
    {
     "data": {
      "text/plain": [
       "3"
      ]
     },
     "execution_count": 10,
     "metadata": {},
     "output_type": "execute_result"
    }
   ],
   "source": [
    "boat = [[[3,3],[0,0]]]\n",
    "x=boat.pop(0)\n",
    "x[0][0]"
   ]
  }
 ],
 "metadata": {
  "kernelspec": {
   "display_name": "Python 3 (ipykernel)",
   "language": "python",
   "name": "python3"
  },
  "language_info": {
   "codemirror_mode": {
    "name": "ipython",
    "version": 3
   },
   "file_extension": ".py",
   "mimetype": "text/x-python",
   "name": "python",
   "nbconvert_exporter": "python",
   "pygments_lexer": "ipython3",
   "version": "3.9.7"
  }
 },
 "nbformat": 4,
 "nbformat_minor": 5
}
