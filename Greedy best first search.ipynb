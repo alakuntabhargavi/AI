{
 "cells": [
  {
   "cell_type": "code",
   "execution_count": 3,
   "id": "63dc6947",
   "metadata": {},
   "outputs": [
    {
     "name": "stdout",
     "output_type": "stream",
     "text": [
      "0 1 4\n",
      "0 2 4\n",
      "0 3 4\n",
      "1 4 3\n",
      "2 4 6\n",
      "2 3 2\n",
      "2 6 3\n",
      "3 8 5\n",
      "4 5 2\n",
      "4 6 5\n",
      "5 7 5\n",
      "6 7 5\n",
      "6 9 4\n",
      "7 9 6\n",
      "8 9 1\n",
      "8 6 5\n"
     ]
    }
   ],
   "source": [
    "E=16\n",
    "graph=[]\n",
    "for i in range(E):\n",
    "    graph.append([int(x) for x in input().split()])"
   ]
  },
  {
   "cell_type": "code",
   "execution_count": 9,
   "id": "bc153397",
   "metadata": {},
   "outputs": [
    {
     "name": "stdout",
     "output_type": "stream",
     "text": [
      "0 1 4\n",
      "0 2 4\n",
      "0 3 4\n",
      "1 4 3\n",
      "2 4 6\n",
      "2 3 2\n",
      "2 6 3\n",
      "3 8 5\n",
      "4 5 2\n",
      "4 6 5\n",
      "5 7 5\n",
      "6 7 5\n",
      "6 9 4\n",
      "7 9 6\n",
      "8 9 1\n",
      "8 6 5\n"
     ]
    }
   ],
   "source": [
    "from collections import defaultdict\n",
    "import numpy as np\n",
    "graph=defaultdict(list)\n",
    "E=16\n",
    "cost=np.zeros((10,10))\n",
    "for i in range(E):\n",
    "    a,b,c=[int(x) for x in input().split()]\n",
    "    graph[a].append(b)\n",
    "    cost[a][b]=c"
   ]
  },
  {
   "cell_type": "code",
   "execution_count": 12,
   "id": "5aaa1193",
   "metadata": {},
   "outputs": [
    {
     "name": "stdout",
     "output_type": "stream",
     "text": [
      "10\n",
      "11\n",
      "6\n",
      "8\n",
      "9\n",
      "9\n",
      "4\n",
      "3\n",
      "6\n",
      "0\n"
     ]
    }
   ],
   "source": [
    " h=[]\n",
    "for i in range(10):\n",
    "    h.append(int(input()))"
   ]
  },
  {
   "cell_type": "code",
   "execution_count": 39,
   "id": "9617dd18",
   "metadata": {},
   "outputs": [
    {
     "name": "stdout",
     "output_type": "stream",
     "text": [
      "destination reached\n",
      "[0, 2, 6, 9]\n",
      "path cost= 11.0\n"
     ]
    }
   ],
   "source": [
    "\n",
    "s=0\n",
    "t=9\n",
    "def gbfs(graph,h,s,t):\n",
    "    queue=[s]\n",
    "    visited=[s]\n",
    "    while(len(queue)>0):\n",
    "        s=queue.pop()\n",
    "        m=1000\n",
    "        for i in graph[s]:\n",
    "            if m>h[i]:\n",
    "                m=h[i]\n",
    "                index=i\n",
    "        queue.append(index)\n",
    "        visited.append(index)\n",
    "        if t in visited:\n",
    "            print(\"destination reached\")\n",
    "            print(visited)\n",
    "            sum=0\n",
    "            for i in range(len(visited)-1):\n",
    "                sum+=cost[visited[i]][visited[i+1]]\n",
    "            print(\"path cost=\",sum)\n",
    "            return\n",
    "            \n",
    "gbfs(graph,h,s,t)\n"
   ]
  },
  {
   "cell_type": "code",
   "execution_count": 31,
   "id": "c654746a",
   "metadata": {},
   "outputs": [
    {
     "data": {
      "text/plain": [
       "array([[0., 4., 4., 4., 0., 0., 0., 0., 0., 0.],\n",
       "       [0., 0., 0., 0., 3., 0., 0., 0., 0., 0.],\n",
       "       [0., 0., 0., 2., 6., 0., 3., 0., 0., 0.],\n",
       "       [0., 0., 0., 0., 0., 0., 0., 0., 5., 0.],\n",
       "       [0., 0., 0., 0., 0., 2., 5., 0., 0., 0.],\n",
       "       [0., 0., 0., 0., 0., 0., 0., 5., 0., 0.],\n",
       "       [0., 0., 0., 0., 0., 0., 0., 5., 0., 4.],\n",
       "       [0., 0., 0., 0., 0., 0., 0., 0., 0., 6.],\n",
       "       [0., 0., 0., 0., 0., 0., 5., 0., 0., 1.],\n",
       "       [0., 0., 0., 0., 0., 0., 0., 0., 0., 0.]])"
      ]
     },
     "execution_count": 31,
     "metadata": {},
     "output_type": "execute_result"
    }
   ],
   "source": [
    "cost"
   ]
  },
  {
   "cell_type": "code",
   "execution_count": 36,
   "id": "30f6189e",
   "metadata": {},
   "outputs": [
    {
     "data": {
      "text/plain": [
       "11.0"
      ]
     },
     "execution_count": 36,
     "metadata": {},
     "output_type": "execute_result"
    }
   ],
   "source": [
    "visited=[0,2,6,9]\n",
    "sum=0\n",
    "for i in range(len(visited)-1):\n",
    "    sum+=cost[visited[i]][visited[i+1]]\n",
    "sum"
   ]
  },
  {
   "cell_type": "code",
   "execution_count": null,
   "id": "83198967",
   "metadata": {},
   "outputs": [],
   "source": []
  }
 ],
 "metadata": {
  "kernelspec": {
   "display_name": "Python 3 (ipykernel)",
   "language": "python",
   "name": "python3"
  },
  "language_info": {
   "codemirror_mode": {
    "name": "ipython",
    "version": 3
   },
   "file_extension": ".py",
   "mimetype": "text/x-python",
   "name": "python",
   "nbconvert_exporter": "python",
   "pygments_lexer": "ipython3",
   "version": "3.9.7"
  }
 },
 "nbformat": 4,
 "nbformat_minor": 5
}
