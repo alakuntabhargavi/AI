{
 "cells": [
  {
   "cell_type": "code",
   "execution_count": 11,
   "id": "24632412",
   "metadata": {},
   "outputs": [
    {
     "name": "stdout",
     "output_type": "stream",
     "text": [
      "5 3 7 2 4 8 "
     ]
    }
   ],
   "source": [
    "#BFS\n",
    "graph={\n",
    "    5:[3,7],\n",
    "    3:[2,4],\n",
    "    7:[8],\n",
    "    4:[8],\n",
    "    2:[],\n",
    "    4:[],\n",
    "    8:[]\n",
    "}\n",
    "graph\n",
    "\n",
    "visited=[]\n",
    "queue=[]\n",
    "def bfs(graph,visited,node):\n",
    "    visited.append(node)\n",
    "    queue.append(node)\n",
    "    while queue:\n",
    "        m=queue.pop(0)\n",
    "        print(m,end=\" \")\n",
    "        \n",
    "        for i in graph[m]:\n",
    "            if i not in visited:\n",
    "                visited.append(i)\n",
    "                queue.append(i)\n",
    "bfs(graph,visited,5)"
   ]
  },
  {
   "cell_type": "code",
   "execution_count": 12,
   "id": "ecf8c33a",
   "metadata": {},
   "outputs": [
    {
     "name": "stdout",
     "output_type": "stream",
     "text": [
      "5 7 8 3 4 2 "
     ]
    }
   ],
   "source": [
    "#DFS\n",
    "graph={\n",
    "    5:[3,7],\n",
    "    3:[2,4],\n",
    "    7:[8],\n",
    "    4:[8],\n",
    "    2:[],\n",
    "    4:[],\n",
    "    8:[]\n",
    "}\n",
    "graph\n",
    "\n",
    "visited=[]\n",
    "queue=[]\n",
    "def bfs(graph,visited,node):\n",
    "    visited.append(node)\n",
    "    queue.append(node)\n",
    "    while queue:\n",
    "        m=queue.pop()\n",
    "        print(m,end=\" \")\n",
    "        \n",
    "        for i in graph[m]:\n",
    "            if i not in visited:\n",
    "                visited.append(i)\n",
    "                queue.append(i)\n",
    "bfs(graph,visited,5)"
   ]
  }
 ],
 "metadata": {
  "kernelspec": {
   "display_name": "Python 3 (ipykernel)",
   "language": "python",
   "name": "python3"
  },
  "language_info": {
   "codemirror_mode": {
    "name": "ipython",
    "version": 3
   },
   "file_extension": ".py",
   "mimetype": "text/x-python",
   "name": "python",
   "nbconvert_exporter": "python",
   "pygments_lexer": "ipython3",
   "version": "3.9.7"
  }
 },
 "nbformat": 4,
 "nbformat_minor": 5
}
