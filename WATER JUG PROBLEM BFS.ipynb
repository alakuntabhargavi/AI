{
 "cells": [
  {
   "cell_type": "code",
   "execution_count": 15,
   "id": "7f1190da",
   "metadata": {},
   "outputs": [
    {
     "name": "stdout",
     "output_type": "stream",
     "text": [
      "[0, 0]\n",
      "[5, 0]\n",
      "[0, 3]\n",
      "[2, 3]\n",
      "[5, 3]\n",
      "[3, 0]\n",
      "[2, 0]\n",
      "[3, 3]\n",
      "[0, 2]\n",
      "[5, 1]\n",
      "[5, 2]\n",
      "[0, 1]\n",
      "[4, 3]\n",
      "goal reached\n"
     ]
    }
   ],
   "source": [
    "state=[[0,0]]#empty\n",
    "temp=[[0,0]]\n",
    "j1=5\n",
    "j2=3\n",
    "def bfs():\n",
    "    x=state.pop(0)#poping the first element in the list\n",
    "    print(x)\n",
    "    if 4 in x:\n",
    "        print(\"goal reached\")\n",
    "        return\n",
    "    #transfer some water from jug1 to jug2 untill jug2 is full\n",
    "    if x[0]+x[1]>=j2 and x[0]>0:\n",
    "        if [x[0]-(j2-x[1]),j2] not in temp:\n",
    "            state.append([x[0]-(j2-x[1]),j2])\n",
    "            temp.append([x[0]-(j2-x[1]),j2])\n",
    "            \n",
    "     #transfer some water from jug2 to jug1 untill jug1 is full\n",
    "    if x[0]+x[1]>=j1 and x[1]>0:\n",
    "        if [j1,x[1]-(j1-x[0])] not in temp:\n",
    "            state.append([j1,x[1]-(j1-x[0])])\n",
    "            temp.append([j1,x[1]-(j1-x[0])])\n",
    "            \n",
    "    \n",
    "    #transer all water from jug1 to jug1 and make jug2 empty\n",
    "    if x[0]+x[1]<=j1 and x[1]>0:\n",
    "        if [x[0]+x[1],0] not in temp:\n",
    "            state.append([x[0]+x[1],0])\n",
    "            temp.append([x[0]+x[1],0])\n",
    "            \n",
    "    #transer all water from jug1 to jug2 and make jug1 empty\n",
    "    if x[0]+x[1]<=j2 and x[0]>0:\n",
    "        if [0,x[0]+x[1]] not in temp:\n",
    "            state.append([0,x[0]+x[1]])\n",
    "            temp.append([0,x[0]+x[1]])\n",
    "        \n",
    "    #empty jug1\n",
    "    if x[0]>0:\n",
    "        if [0,x[1]] not in temp:\n",
    "            state.append([0,x[1]])\n",
    "            temp.append([0,x[1]])\n",
    "            \n",
    "    #empty jug2\n",
    "    if x[1]>0:\n",
    "        if [x[0],0] not in temp:\n",
    "            state.append([x[0],0])\n",
    "            temp.append([x[0],0])\n",
    "            \n",
    "    #fill jug1\n",
    "    if x[0]<=j1:\n",
    "        if [j1,x[1]] not in temp:\n",
    "            state.append([j1,x[1]])\n",
    "            temp.append([j1,x[1]])\n",
    "            \n",
    "    #fill jug2\n",
    "    if x[1]<=j2:\n",
    "        if [x[0],j2] not in temp:\n",
    "            state.append([x[0],j2])\n",
    "            temp.append([x[0],j2] )\n",
    "            \n",
    "    bfs()\n",
    "    \n",
    "bfs()\n",
    "    "
   ]
  },
  {
   "cell_type": "code",
   "execution_count": null,
   "id": "5de50c7b",
   "metadata": {},
   "outputs": [],
   "source": []
  },
  {
   "cell_type": "code",
   "execution_count": null,
   "id": "8345cf4b",
   "metadata": {},
   "outputs": [],
   "source": []
  }
 ],
 "metadata": {
  "kernelspec": {
   "display_name": "Python 3 (ipykernel)",
   "language": "python",
   "name": "python3"
  },
  "language_info": {
   "codemirror_mode": {
    "name": "ipython",
    "version": 3
   },
   "file_extension": ".py",
   "mimetype": "text/x-python",
   "name": "python",
   "nbconvert_exporter": "python",
   "pygments_lexer": "ipython3",
   "version": "3.9.7"
  }
 },
 "nbformat": 4,
 "nbformat_minor": 5
}
